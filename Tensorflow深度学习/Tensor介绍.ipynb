{
 "cells": [
  {
   "cell_type": "code",
   "execution_count": null,
   "metadata": {
    "collapsed": true
   },
   "outputs": [],
   "source": [
    "\"\"\"\n",
    "Tensor(张量)是tensorflow中的最重要的数据结构。\n",
    "tensorflow可以理解为N维矩阵（N维数组),其中0零维表示的是一个标量，也就是一个数，\n",
    "一维张量表示的是一个向量，也可以看作是一个一维数组\n",
    "二维张良量表示的是一个矩阵\n",
    "在计算图模型中操作间传递的数据可以看作\n",
    "\"\"\"\n"
   ]
  }
 ],
 "metadata": {
  "kernelspec": {
   "display_name": "Python 3",
   "language": "python",
   "name": "python3"
  },
  "language_info": {
   "codemirror_mode": {
    "name": "ipython",
    "version": 3
   },
   "file_extension": ".py",
   "mimetype": "text/x-python",
   "name": "python",
   "nbconvert_exporter": "python",
   "pygments_lexer": "ipython3",
   "version": "3.6.1"
  }
 },
 "nbformat": 4,
 "nbformat_minor": 2
}
