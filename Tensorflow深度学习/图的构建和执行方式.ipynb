{
 "cells": [
  {
   "cell_type": "code",
   "execution_count": 1,
   "metadata": {},
   "outputs": [
    {
     "name": "stderr",
     "output_type": "stream",
     "text": [
      "F:\\Anaconda\\lib\\site-packages\\h5py\\__init__.py:34: FutureWarning: Conversion of the second argument of issubdtype from `float` to `np.floating` is deprecated. In future, it will be treated as `np.float64 == np.dtype(float).type`.\n",
      "  from ._conv import register_converters as _register_converters\n"
     ]
    },
    {
     "name": "stdout",
     "output_type": "stream",
     "text": [
      "Tensor(\"Add:0\", shape=(2,), dtype=int32)\n"
     ]
    }
   ],
   "source": [
    "\"\"\"\n",
    "tensorflow是一种计算图的模型，即用图的形式来表示运算过程的模型\n",
    "tensorflow程序一般分为图的构建和图的执行\n",
    "图的构建阶段也称为图的定义阶段，该过程会在图模型中定义所需的运算\n",
    "每次运算的结果以及原始的输入数据都可称为一个节点\n",
    "\n",
    "\"\"\"\n",
    "# 图的构建过程\n",
    "import tensorflow as tf\n",
    "\n",
    "# 构建一行二列的矩阵\n",
    "m1 = tf.constant([3,5])\n",
    "m2 = tf.constant([2,4])\n",
    "\n",
    "result = tf.add(m1,m2)   # 矩阵加法\n",
    "print(result)"
   ]
  },
  {
   "cell_type": "code",
   "execution_count": 2,
   "metadata": {},
   "outputs": [
    {
     "name": "stdout",
     "output_type": "stream",
     "text": [
      "[5 9]\n"
     ]
    }
   ],
   "source": [
    "#  图的执行阶段\n",
    "sess = tf.Session()  # 启动默认图模型\n",
    "print(sess.run(result))  # run()方法启动，运行模型，传入参数result，执行矩阵的加法\n",
    "sess.close()   # 调用close()关闭会话"
   ]
  },
  {
   "cell_type": "code",
   "execution_count": 3,
   "metadata": {},
   "outputs": [
    {
     "name": "stdout",
     "output_type": "stream",
     "text": [
      "[5 9]\n"
     ]
    }
   ],
   "source": [
    "# 图的执行过程\n",
    "# 图的执行过程建议写成下面的形式，这样就无须调用close释放资源，而是自动关闭会话\n",
    "with tf.Session() as sess:\n",
    "    res = sess.run(result)\n",
    "print(res)"
   ]
  },
  {
   "cell_type": "code",
   "execution_count": 4,
   "metadata": {},
   "outputs": [
    {
     "name": "stdout",
     "output_type": "stream",
     "text": [
      "[5 9]\n"
     ]
    }
   ],
   "source": [
    "# tensorflow中的默认会话机制,通过调用as_default()生成默认会话\n",
    "# 图的构建过程\n",
    "import tensorflow as tf\n",
    "\n",
    "# 构建一行二列的矩阵\n",
    "m1 = tf.constant([3,5])\n",
    "m2 = tf.constant([2,4])\n",
    "\n",
    "result = tf.add(m1,m2)   # 矩阵加法\n",
    "# print(result)\n",
    "sess = tf.Session()\n",
    "with sess.as_default():   # as_default()生成默认会话\n",
    "    print(result.eval())   # 调用eval()函数，直接输出变量内容 "
   ]
  },
  {
   "cell_type": "code",
   "execution_count": 5,
   "metadata": {},
   "outputs": [
    {
     "name": "stdout",
     "output_type": "stream",
     "text": [
      "[5 9]\n"
     ]
    }
   ],
   "source": [
    "# 交互式环境下的方法InteractiveSession()\n",
    "# 图的构建过程\n",
    "import tensorflow as tf\n",
    "\n",
    "# 构建一行二列的矩阵\n",
    "m1 = tf.constant([3,5])\n",
    "m2 = tf.constant([2,4])\n",
    "\n",
    "result = tf.add(m1,m2)   # 矩阵加法\n",
    "# print(result)\n",
    "sess = tf.InteractiveSession()    # 调用交互式环境下的方法\n",
    "print(result.eval())"
   ]
  },
  {
   "cell_type": "code",
   "execution_count": 6,
   "metadata": {},
   "outputs": [
    {
     "name": "stdout",
     "output_type": "stream",
     "text": [
      "[ 8 10]\n"
     ]
    }
   ],
   "source": [
    "# 默认生成\n",
    "o = tf.constant([3,4])\n",
    "p = tf.constant([5,6])\n",
    "result = tf.add(o,p)    # 执行加法运算\n",
    "sess = tf.Session()   # 构建模型\n",
    "with sess.as_default():    # 调用函数默认生成会话\n",
    "    print(result.eval())   # 调用函数eval()直接输出变量的内容"
   ]
  },
  {
   "cell_type": "code",
   "execution_count": 7,
   "metadata": {},
   "outputs": [
    {
     "name": "stdout",
     "output_type": "stream",
     "text": [
      "[ 8 10]\n"
     ]
    }
   ],
   "source": [
    "# \n",
    "with tf.Session() as sess:\n",
    "    res = sess.run(result)\n",
    "print(res)"
   ]
  },
  {
   "cell_type": "code",
   "execution_count": 8,
   "metadata": {},
   "outputs": [
    {
     "name": "stdout",
     "output_type": "stream",
     "text": [
      "[ 8 10]\n"
     ]
    }
   ],
   "source": [
    "sess = tf.Session()\n",
    "print(sess.run(result))\n",
    "sess.close()"
   ]
  },
  {
   "cell_type": "code",
   "execution_count": 9,
   "metadata": {},
   "outputs": [
    {
     "name": "stdout",
     "output_type": "stream",
     "text": [
      "[12  6]\n"
     ]
    },
    {
     "name": "stderr",
     "output_type": "stream",
     "text": [
      "F:\\Anaconda\\lib\\site-packages\\tensorflow\\python\\client\\session.py:1735: UserWarning: An interactive session is already active. This can cause out-of-memory errors in some cases. You must explicitly call `InteractiveSession.close()` to release resources held by the other session(s).\n",
      "  warnings.warn('An interactive session is already active. This can '\n"
     ]
    }
   ],
   "source": [
    "# 交互式环境下的方法\n",
    "s = tf.constant([3,6])\n",
    "f = tf.constant([9,0])\n",
    "result = tf.add(s,f)\n",
    "sess = tf.InteractiveSession() # 调用函数执行交互式环境下的方法InteractiveSession()\n",
    "print(result.eval())"
   ]
  },
  {
   "cell_type": "code",
   "execution_count": null,
   "metadata": {
    "collapsed": true
   },
   "outputs": [],
   "source": []
  }
 ],
 "metadata": {
  "kernelspec": {
   "display_name": "Python 3",
   "language": "python",
   "name": "python3"
  },
  "language_info": {
   "codemirror_mode": {
    "name": "ipython",
    "version": 3
   },
   "file_extension": ".py",
   "mimetype": "text/x-python",
   "name": "python",
   "nbconvert_exporter": "python",
   "pygments_lexer": "ipython3",
   "version": "3.6.1"
  }
 },
 "nbformat": 4,
 "nbformat_minor": 2
}
