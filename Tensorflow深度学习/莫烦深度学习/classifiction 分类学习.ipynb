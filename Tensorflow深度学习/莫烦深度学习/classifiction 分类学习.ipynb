{
 "cells": [
  {
   "cell_type": "code",
   "execution_count": 3,
   "metadata": {
    "collapsed": true
   },
   "outputs": [],
   "source": [
    "import tensorflow as tf\n",
    "from tensorflow.examples.tutorials.mnist import input_data\n",
    "import numpy as np"
   ]
  },
  {
   "cell_type": "code",
   "execution_count": 15,
   "metadata": {},
   "outputs": [
    {
     "name": "stdout",
     "output_type": "stream",
     "text": [
      "Extracting MINST_data\\train-images-idx3-ubyte.gz\n",
      "Extracting MINST_data\\train-labels-idx1-ubyte.gz\n",
      "Extracting MINST_data\\t10k-images-idx3-ubyte.gz\n",
      "Extracting MINST_data\\t10k-labels-idx1-ubyte.gz\n",
      "0.1087\n",
      "0.6504\n",
      "0.7519\n",
      "0.7934\n",
      "0.8166\n",
      "0.8262\n",
      "0.8378\n",
      "0.8445\n",
      "0.8517\n",
      "0.8536\n",
      "0.859\n",
      "0.8632\n",
      "0.8641\n",
      "0.867\n",
      "0.8676\n",
      "0.8679\n",
      "0.8742\n",
      "0.874\n",
      "0.8763\n",
      "0.8763\n"
     ]
    }
   ],
   "source": [
    "mnist  = input_data.read_data_sets(\"MINST_data\",one_hot=True)\n",
    "# 添加一个层\n",
    "def add_layer(inputs, in_size, out_size, activation_function=None):\n",
    "    # 权重\n",
    "    Weights = tf.Variable(tf.random_normal([in_size, out_size]))\n",
    "    biaes = tf.Variable(tf.zeros([1, out_size])+0.1)\n",
    "    Wx_plus_b = tf.matmul(inputs, Weights) + biaes  # 矩阵乘法\n",
    "    \n",
    "    # 激活\n",
    "    if activation_function is None:\n",
    "        outputs = Wx_plus_b\n",
    "    else:\n",
    "        outputs = activation_function(Wx_plus_b)\n",
    "    return outputs\n",
    "\n",
    "# x_data = np.linspace(-1, 1, 300)[:, np.newaxis]\n",
    "# noise = np.random.normal(0, 0.05, x_data.shape)\n",
    "# y_data = np.square(x_data)-0.5 + noise\n",
    "\n",
    "def compute_accuracy(v_xs, v_ys):\n",
    "    global predition\n",
    "    y_pre = sess.run(predition, feed_dict={xs:v_xs})\n",
    "    correct_prediction = tf.equal(tf.argmax(y_pre, 1), tf.argmax(v_ys, 1))\n",
    "    accuracy = tf.reduce_mean(tf.cast(correct_prediction, tf.float32))\n",
    "    result = sess.run(accuracy, feed_dict={xs:v_xs, ys:v_ys})\n",
    "    return result\n",
    "\n",
    "# 输入的值\n",
    "xs = tf.placeholder(tf.float32, [None, 784]) # 28x28\n",
    "ys = tf.placeholder(tf.float32, [None, 10]) \n",
    "\n",
    "# l1 = add_layer(xs, 1, 10, activation_function=tf.nn.relu)\n",
    "# 预测值\n",
    "predition = add_layer(xs, 784, 10, activation_function=tf.nn.softmax)\n",
    "\n",
    "# 损失值\n",
    "cross_entropy = -tf.reduce_mean(tf.reduce_sum(ys*tf.log(predition), reduction_indices=[1]))\n",
    "\n",
    "# 训练器\n",
    "train_step = tf.train.GradientDescentOptimizer(0.5).minimize(cross_entropy)\n",
    "\n",
    "init = tf.initialize_all_variables()\n",
    "\n",
    "sess = tf.Session()\n",
    "sess.run(init)\n",
    "\n",
    "for i in range(1000):\n",
    "    # 从下载好的数据集中提取100个   batch 批处理\n",
    "    batch_xs, batch_ys = mnist.train.next_batch(100)\n",
    "    sess.run(train_step, feed_dict={xs:batch_xs, ys:batch_ys})\n",
    "    if i%50 ==0:\n",
    "        print(compute_accuracy(mnist.test.images, mnist.test.labels))\n",
    "        "
   ]
  },
  {
   "cell_type": "code",
   "execution_count": null,
   "metadata": {
    "collapsed": true
   },
   "outputs": [],
   "source": []
  }
 ],
 "metadata": {
  "kernelspec": {
   "display_name": "Python 3",
   "language": "python",
   "name": "python3"
  },
  "language_info": {
   "codemirror_mode": {
    "name": "ipython",
    "version": 3
   },
   "file_extension": ".py",
   "mimetype": "text/x-python",
   "name": "python",
   "nbconvert_exporter": "python",
   "pygments_lexer": "ipython3",
   "version": "3.6.1"
  }
 },
 "nbformat": 4,
 "nbformat_minor": 2
}
