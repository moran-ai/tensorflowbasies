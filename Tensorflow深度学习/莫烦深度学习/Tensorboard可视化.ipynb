{
 "cells": [
  {
   "cell_type": "code",
   "execution_count": 6,
   "metadata": {},
   "outputs": [],
   "source": [
    "import tensorflow as tf\n",
    "import numpy as np"
   ]
  },
  {
   "cell_type": "markdown",
   "metadata": {},
   "source": [
    "### 添加层"
   ]
  },
  {
   "cell_type": "code",
   "execution_count": 7,
   "metadata": {
    "collapsed": true
   },
   "outputs": [],
   "source": [
    "# # 添加一个层\n",
    "# def add_layer(inputs, in_size, out_size, activation_function=None):\n",
    "#     with tf.name_scope('layers'):\n",
    "#         with tf.name_scope('weights'):\n",
    "#             # 权重\n",
    "#             Weights = tf.Variable(tf.random_normal([in_size, out_size]), name='W')\n",
    "#         with tf.name_scope('biaes'):\n",
    "#             biaes = tf.Variable(tf.zeros([1, out_size])+0.1, name='b')\n",
    "#         with tf.name_scope('Wx_plus_b'):\n",
    "#             Wx_plus_b = tf.matmul(inputs, Weights)+biaes  # 矩阵乘法\n",
    "\n",
    "#         # 激活\n",
    "#         if activation_function is None:\n",
    "#             outputs = Wx_plus_b\n",
    "#         else:\n",
    "#             outputs = activation_function(Wx_plus_b)\n",
    "#         return outputs\n",
    "    \n",
    "# # x_data = np.linspace(-1, 1, 300)[:, np.newaxis]\n",
    "# # noise = np.random.normal(0, 0.05, x_data.shape)\n",
    "# # y_data = np.square(x_data)-0.5 + noise\n",
    "\n",
    "# # 定义命名空间\n",
    "# with tf.name_scope('inputs'):\n",
    "#     # 隐藏层\n",
    "#     xs = tf.placeholder(tf.float32, [None, 1], name='x_input')\n",
    "#     ys = tf.placeholder(tf.float32, [None, 1], name='y_input')\n",
    "# l1 = add_layer(xs, 1, 10, activation_function=tf.nn.relu)\n",
    "# predition = add_layer(l1, 10, 1, activation_function=None)\n",
    "\n",
    "# # 损失函数\n",
    "# with tf.name_scope('loss'):\n",
    "#     loss = tf.reduce_mean(tf.reduce_sum(tf.square(ys-predition), reduction_indices=[1]))\n",
    "    \n",
    "# # 优化损失函数\n",
    "# with tf.name_scope('train'):\n",
    "#     train_step = tf.train.GradientDescentOptimizer(0.1).minimize(loss)\n",
    "\n",
    "# init = tf.initialize_all_variables()\n",
    "# sess = tf.Session()\n",
    "# writer = tf.summary.FileWriter('logs/', sess.graph)\n",
    "# sess.run(init)"
   ]
  },
  {
   "cell_type": "markdown",
   "metadata": {},
   "source": [
    "### 搭建一个神经网络"
   ]
  },
  {
   "cell_type": "code",
   "execution_count": 10,
   "metadata": {},
   "outputs": [],
   "source": [
    "# 添加一个层\n",
    "def add_layer(inputs, in_size, out_size, activation_function=None):\n",
    "    with tf.name_scope('layer'):\n",
    "        # 权重\n",
    "        with tf.name_scope('weights'):\n",
    "            Weights = tf.Variable(tf.random_normal([in_size, out_size]), name='w')\n",
    "        with tf.name_scope('biaes'):\n",
    "            biaes = tf.Variable(tf.zeros([1, out_size])+0.1)\n",
    "        with tf.name_scope('wx_plus_b'):\n",
    "            Wx_plus_b = tf.matmul(inputs, Weights) + biaes  # 矩阵乘法\n",
    "\n",
    "        # 激活\n",
    "        if activation_function is None:\n",
    "            outputs = Wx_plus_b\n",
    "        else:\n",
    "            outputs = activation_function(Wx_plus_b)\n",
    "        return outputs\n",
    "\n",
    "# x_data = np.linspace(-1, 1, 300)[:, np.newaxis]\n",
    "# noise = np.random.normal(0, 0.05, x_data.shape)\n",
    "# y_data = np.square(x_data)-0.5 + noise\n",
    "\n",
    "# 隐藏层\n",
    "with tf.name_scope('inputs'):\n",
    "    xs = tf.placeholder(tf.float32, [None, 1], name='x_input')\n",
    "    ys = tf.placeholder(tf.float32, [None, 1], name='y_input')\n",
    "l1 = add_layer(xs, 1, 10, activation_function=tf.nn.relu)\n",
    "predition = add_layer(l1, 10, 1, activation_function=None)\n",
    "\n",
    "with tf.name_scope('loss'):\n",
    "    loss = tf.reduce_mean(tf.reduce_sum(tf.square(ys -predition), reduction_indices=[1]))\n",
    "with tf.name_scope('train'):\n",
    "    train_step = tf.train.GradientDescentOptimizer(0.1).minimize(loss)\n",
    "sess = tf.Session()\n",
    "writer = tf.summary.FileWriter('los/', sess.graph)\n",
    "sess.run(tf.initialize_all_variables())"
   ]
  },
  {
   "cell_type": "code",
   "execution_count": null,
   "metadata": {
    "collapsed": true
   },
   "outputs": [],
   "source": []
  },
  {
   "cell_type": "code",
   "execution_count": null,
   "metadata": {
    "collapsed": true
   },
   "outputs": [],
   "source": []
  },
  {
   "cell_type": "code",
   "execution_count": 157,
   "metadata": {
    "collapsed": true
   },
   "outputs": [],
   "source": []
  },
  {
   "cell_type": "markdown",
   "metadata": {},
   "source": [
    "### 训练"
   ]
  },
  {
   "cell_type": "code",
   "execution_count": 158,
   "metadata": {
    "collapsed": true
   },
   "outputs": [],
   "source": [
    "\n",
    "\n",
    "# fig = plt.figure()\n",
    "# ax = fig.add_subplot(1,1,1)\n",
    "# ax.scatter(x_data, y_data)\n",
    "# plt.ion()\n",
    "# plt.show()\n",
    "\n",
    "# for i in range(1000):\n",
    "#     sess.run(train_step, feed_dict={xs:x_data, ys:y_data})\n",
    "#     if i%50 == 0:\n",
    "# #         print(sess.run(loss, feed_dict={xs:x_data, ys:y_data}))\n",
    "#         try:\n",
    "#             ax.lines.remove(lines[0])\n",
    "#         except Exception:\n",
    "#             pass\n",
    "#         # 对结果进行可视化\n",
    "#         predition_value = sess.run(predition, feed_dict={xs:x_data})\n",
    "#         lines = ax.plot(x_data, predition_value, 'r', lw=5)\n",
    "#         plt.pause(0.1)\n",
    "#         fig = plt.figure()\n",
    "#         ax = fig.add_subplot(1,1,1)\n",
    "#         ax.scatter(x_data, y_data)\n",
    "# plt.ion()  # 多个图\n",
    "# plt.show()"
   ]
  },
  {
   "cell_type": "code",
   "execution_count": 3,
   "metadata": {
    "collapsed": true
   },
   "outputs": [],
   "source": [
    "import tensorflow as tf"
   ]
  },
  {
   "cell_type": "code",
   "execution_count": null,
   "metadata": {
    "collapsed": true
   },
   "outputs": [],
   "source": []
  }
 ],
 "metadata": {
  "kernelspec": {
   "display_name": "Python 3",
   "language": "python",
   "name": "python3"
  },
  "language_info": {
   "codemirror_mode": {
    "name": "ipython",
    "version": 3
   },
   "file_extension": ".py",
   "mimetype": "text/x-python",
   "name": "python",
   "nbconvert_exporter": "python",
   "pygments_lexer": "ipython3",
   "version": "3.6.1"
  }
 },
 "nbformat": 4,
 "nbformat_minor": 2
}
