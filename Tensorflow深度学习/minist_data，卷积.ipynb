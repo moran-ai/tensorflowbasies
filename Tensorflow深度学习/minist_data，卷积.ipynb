{
 "cells": [
  {
   "cell_type": "code",
   "execution_count": 1,
   "metadata": {},
   "outputs": [
    {
     "name": "stderr",
     "output_type": "stream",
     "text": [
      "F:\\Anaconda\\lib\\site-packages\\h5py\\__init__.py:34: FutureWarning: Conversion of the second argument of issubdtype from `float` to `np.floating` is deprecated. In future, it will be treated as `np.float64 == np.dtype(float).type`.\n",
      "  from ._conv import register_converters as _register_converters\n"
     ]
    }
   ],
   "source": [
    "import tensorflow as tf\n",
    "from tensorflow.examples.tutorials.mnist import input_data"
   ]
  },
  {
   "cell_type": "markdown",
   "metadata": {},
   "source": [
    "# 读入数据,通过mnist自带方法input_data读入训练数据，并将标签转化为10位独热码"
   ]
  },
  {
   "cell_type": "code",
   "execution_count": 2,
   "metadata": {},
   "outputs": [
    {
     "name": "stderr",
     "output_type": "stream",
     "text": [
      "WARNING: Logging before flag parsing goes to stderr.\n",
      "W0330 14:31:46.507869  8664 deprecation.py:323] From <ipython-input-2-043a7e136cf2>:1: read_data_sets (from tensorflow.contrib.learn.python.learn.datasets.mnist) is deprecated and will be removed in a future version.\n",
      "Instructions for updating:\n",
      "Please use alternatives such as official/mnist/dataset.py from tensorflow/models.\n",
      "W0330 14:31:46.509864  8664 deprecation.py:323] From F:\\Anaconda\\lib\\site-packages\\tensorflow\\contrib\\learn\\python\\learn\\datasets\\mnist.py:260: maybe_download (from tensorflow.contrib.learn.python.learn.datasets.base) is deprecated and will be removed in a future version.\n",
      "Instructions for updating:\n",
      "Please write your own downloading logic.\n",
      "W0330 14:31:46.511861  8664 deprecation.py:323] From F:\\Anaconda\\lib\\site-packages\\tensorflow\\contrib\\learn\\python\\learn\\datasets\\mnist.py:262: extract_images (from tensorflow.contrib.learn.python.learn.datasets.mnist) is deprecated and will be removed in a future version.\n",
      "Instructions for updating:\n",
      "Please use tf.data to implement this functionality.\n"
     ]
    },
    {
     "name": "stdout",
     "output_type": "stream",
     "text": [
      "Extracting MINST_data/train-images-idx3-ubyte.gz\n"
     ]
    },
    {
     "name": "stderr",
     "output_type": "stream",
     "text": [
      "W0330 14:31:46.822114  8664 deprecation.py:323] From F:\\Anaconda\\lib\\site-packages\\tensorflow\\contrib\\learn\\python\\learn\\datasets\\mnist.py:267: extract_labels (from tensorflow.contrib.learn.python.learn.datasets.mnist) is deprecated and will be removed in a future version.\n",
      "Instructions for updating:\n",
      "Please use tf.data to implement this functionality.\n",
      "W0330 14:31:46.824030  8664 deprecation.py:323] From F:\\Anaconda\\lib\\site-packages\\tensorflow\\contrib\\learn\\python\\learn\\datasets\\mnist.py:110: dense_to_one_hot (from tensorflow.contrib.learn.python.learn.datasets.mnist) is deprecated and will be removed in a future version.\n",
      "Instructions for updating:\n",
      "Please use tf.one_hot on tensors.\n",
      "W0330 14:31:46.887873  8664 deprecation.py:323] From F:\\Anaconda\\lib\\site-packages\\tensorflow\\contrib\\learn\\python\\learn\\datasets\\mnist.py:290: DataSet.__init__ (from tensorflow.contrib.learn.python.learn.datasets.mnist) is deprecated and will be removed in a future version.\n",
      "Instructions for updating:\n",
      "Please use alternatives such as official/mnist/dataset.py from tensorflow/models.\n"
     ]
    },
    {
     "name": "stdout",
     "output_type": "stream",
     "text": [
      "Extracting MINST_data/train-labels-idx1-ubyte.gz\n",
      "Extracting MINST_data/t10k-images-idx3-ubyte.gz\n",
      "Extracting MINST_data/t10k-labels-idx1-ubyte.gz\n"
     ]
    }
   ],
   "source": [
    "mnist = input_data.read_data_sets(\"MINST_data/\", one_hot=True)"
   ]
  },
  {
   "cell_type": "code",
   "execution_count": 3,
   "metadata": {},
   "outputs": [
    {
     "data": {
      "text/plain": [
       "array([[0., 0., 0., 0., 0., 0., 0., 1., 0., 0.],\n",
       "       [0., 0., 0., 1., 0., 0., 0., 0., 0., 0.],\n",
       "       [0., 0., 0., 0., 1., 0., 0., 0., 0., 0.],\n",
       "       [0., 0., 0., 0., 0., 0., 1., 0., 0., 0.],\n",
       "       [0., 1., 0., 0., 0., 0., 0., 0., 0., 0.],\n",
       "       [0., 0., 0., 0., 0., 0., 0., 0., 1., 0.],\n",
       "       [0., 1., 0., 0., 0., 0., 0., 0., 0., 0.],\n",
       "       [1., 0., 0., 0., 0., 0., 0., 0., 0., 0.],\n",
       "       [0., 0., 0., 0., 0., 0., 0., 0., 0., 1.],\n",
       "       [0., 0., 0., 0., 0., 0., 0., 0., 1., 0.]])"
      ]
     },
     "execution_count": 3,
     "metadata": {},
     "output_type": "execute_result"
    }
   ],
   "source": [
    "mnist.train.labels[:10,:]   # 独热码"
   ]
  },
  {
   "cell_type": "markdown",
   "metadata": {},
   "source": [
    "# 前向网络部分"
   ]
  },
  {
   "cell_type": "code",
   "execution_count": 4,
   "metadata": {
    "collapsed": true
   },
   "outputs": [],
   "source": [
    "x = tf.placeholder(\"float\", [None, 784])"
   ]
  },
  {
   "cell_type": "code",
   "execution_count": 5,
   "metadata": {
    "collapsed": true
   },
   "outputs": [],
   "source": [
    "W = tf.Variable(tf.zeros([784,10]))\n",
    "b = tf.Variable(tf.zeros([10]))"
   ]
  },
  {
   "cell_type": "code",
   "execution_count": 6,
   "metadata": {
    "collapsed": true
   },
   "outputs": [],
   "source": [
    "y = tf.nn.softmax(tf.matmul(x,W) + b)"
   ]
  },
  {
   "cell_type": "markdown",
   "metadata": {},
   "source": [
    "# 做交叉熵函数"
   ]
  },
  {
   "cell_type": "code",
   "execution_count": 7,
   "metadata": {
    "collapsed": true
   },
   "outputs": [],
   "source": [
    "y_ = tf.placeholder(\"float\", [None,10])"
   ]
  },
  {
   "cell_type": "code",
   "execution_count": 8,
   "metadata": {
    "collapsed": true
   },
   "outputs": [],
   "source": [
    "cross_entropy = -tf.reduce_sum(y_*tf.log(y))    # 计算交叉熵"
   ]
  },
  {
   "cell_type": "markdown",
   "metadata": {},
   "source": [
    "## 优化器"
   ]
  },
  {
   "cell_type": "code",
   "execution_count": 9,
   "metadata": {
    "collapsed": true
   },
   "outputs": [],
   "source": [
    "train_step = tf.train.GradientDescentOptimizer(0.01).minimize(cross_entropy)  # 优化交叉熵"
   ]
  },
  {
   "cell_type": "code",
   "execution_count": 10,
   "metadata": {
    "collapsed": true
   },
   "outputs": [],
   "source": [
    "# 初始化变量\n",
    "init = tf.global_variables_initializer()"
   ]
  },
  {
   "cell_type": "markdown",
   "metadata": {},
   "source": [
    "# 执行，创建Session()"
   ]
  },
  {
   "cell_type": "code",
   "execution_count": 11,
   "metadata": {
    "collapsed": true
   },
   "outputs": [],
   "source": [
    "sess = tf.Session()\n",
    "sess.run(init)"
   ]
  },
  {
   "cell_type": "markdown",
   "metadata": {},
   "source": [
    "# 执行训练"
   ]
  },
  {
   "cell_type": "code",
   "execution_count": 12,
   "metadata": {
    "collapsed": true
   },
   "outputs": [],
   "source": [
    "for i in range(1000):\n",
    "  batch_xs, batch_ys = mnist.train.next_batch(100)\n",
    "  sess.run(train_step, feed_dict={x: batch_xs, y_: batch_ys})"
   ]
  },
  {
   "cell_type": "markdown",
   "metadata": {},
   "source": [
    "# 评估模型"
   ]
  },
  {
   "cell_type": "code",
   "execution_count": 13,
   "metadata": {
    "collapsed": true
   },
   "outputs": [],
   "source": [
    "correct_prediction = tf.equal(tf.argmax(y,1), tf.argmax(y_,1))\n",
    "accuracy = tf.reduce_mean(tf.cast(correct_prediction, \"float\"))"
   ]
  },
  {
   "cell_type": "code",
   "execution_count": 14,
   "metadata": {},
   "outputs": [
    {
     "name": "stdout",
     "output_type": "stream",
     "text": [
      "0.9185\n"
     ]
    }
   ],
   "source": [
    "print(sess.run(accuracy, feed_dict={x: mnist.test.images, y_: mnist.test.labels}))"
   ]
  },
  {
   "cell_type": "markdown",
   "metadata": {
    "collapsed": true
   },
   "source": [
    "# 卷积"
   ]
  },
  {
   "cell_type": "markdown",
   "metadata": {},
   "source": [
    "## 创建前向网络"
   ]
  },
  {
   "cell_type": "code",
   "execution_count": 15,
   "metadata": {
    "collapsed": true
   },
   "outputs": [],
   "source": [
    "x = tf.placeholder(\"float\", [None, 784])"
   ]
  },
  {
   "cell_type": "code",
   "execution_count": 16,
   "metadata": {
    "collapsed": true
   },
   "outputs": [],
   "source": [
    "y_ = tf.placeholder(\"float\", shape=[None, 10])"
   ]
  },
  {
   "cell_type": "markdown",
   "metadata": {},
   "source": [
    "#  初始化"
   ]
  },
  {
   "cell_type": "code",
   "execution_count": 17,
   "metadata": {
    "collapsed": true
   },
   "outputs": [],
   "source": [
    "# 初始化w\n",
    "def weight_variable(shape):\n",
    "  initial = tf.truncated_normal(shape, stddev=0.1)\n",
    "  return tf.Variable(initial)\n",
    "\n",
    "# 初始化b\n",
    "def bias_variable(shape):\n",
    "  initial = tf.constant(0.1, shape=shape)\n",
    "  return tf.Variable(initial)"
   ]
  },
  {
   "cell_type": "markdown",
   "metadata": {},
   "source": [
    "#  卷积和池化"
   ]
  },
  {
   "cell_type": "code",
   "execution_count": 18,
   "metadata": {
    "collapsed": true
   },
   "outputs": [],
   "source": [
    "def conv2d(x, W):\n",
    "  return tf.nn.conv2d(x, W, strides=[1, 1, 1, 1], padding='SAME')    # strides 步长    padding 0边距   'SAME' 不变\n",
    "\n",
    "def max_pool_2x2(x):\n",
    "  return tf.nn.max_pool(x, ksize=[1, 2, 2, 1],\n",
    "                        strides=[1, 2, 2, 1], padding='SAME')    # x 池化的图"
   ]
  },
  {
   "cell_type": "markdown",
   "metadata": {},
   "source": [
    "# 第一层卷积"
   ]
  },
  {
   "cell_type": "code",
   "execution_count": 20,
   "metadata": {
    "collapsed": true
   },
   "outputs": [],
   "source": [
    "W_conv1 = weight_variable([5, 5, 1, 32])   # 卷积大小5x5x1,通道数为1， 32个卷积  \n",
    "b_conv1 = bias_variable([32])     # W矩阵的变量数为5*5*1*32,  b矩阵的变量为32"
   ]
  },
  {
   "cell_type": "code",
   "execution_count": 21,
   "metadata": {
    "collapsed": true
   },
   "outputs": [],
   "source": [
    "x_image = tf.reshape(x, [-1,28,28,1])   # 黑白图像通道数为1  "
   ]
  },
  {
   "cell_type": "code",
   "execution_count": 22,
   "metadata": {
    "collapsed": true
   },
   "outputs": [],
   "source": [
    "h_conv1 = tf.nn.relu(conv2d(x_image, W_conv1) + b_conv1)    #  卷积后激活函数"
   ]
  },
  {
   "cell_type": "code",
   "execution_count": 23,
   "metadata": {
    "collapsed": true
   },
   "outputs": [],
   "source": [
    "h_pool1 = max_pool_2x2(h_conv1)   # 池化"
   ]
  },
  {
   "cell_type": "markdown",
   "metadata": {},
   "source": [
    "## 第二层卷积"
   ]
  },
  {
   "cell_type": "code",
   "execution_count": 24,
   "metadata": {
    "collapsed": true
   },
   "outputs": [],
   "source": [
    "W_conv2 = weight_variable([5, 5, 32, 64])\n",
    "b_conv2 = bias_variable([64])\n",
    "\n",
    "h_conv2 = tf.nn.relu(conv2d(h_pool1, W_conv2) + b_conv2)\n",
    "h_pool2 = max_pool_2x2(h_conv2)"
   ]
  },
  {
   "cell_type": "markdown",
   "metadata": {},
   "source": [
    "## 全连接"
   ]
  },
  {
   "cell_type": "code",
   "execution_count": 25,
   "metadata": {
    "collapsed": true
   },
   "outputs": [],
   "source": [
    "W_fc1 = weight_variable([7 * 7 * 64, 1024])\n",
    "b_fc1 = bias_variable([1024])\n",
    "\n",
    "h_pool2_flat = tf.reshape(h_pool2, [-1, 7*7*64])\n",
    "h_fc1 = tf.nn.relu(tf.matmul(h_pool2_flat, W_fc1) + b_fc1)"
   ]
  },
  {
   "cell_type": "markdown",
   "metadata": {},
   "source": [
    "## Dropout"
   ]
  },
  {
   "cell_type": "code",
   "execution_count": 27,
   "metadata": {},
   "outputs": [
    {
     "name": "stderr",
     "output_type": "stream",
     "text": [
      "W0330 14:57:02.973510  8664 deprecation.py:506] From <ipython-input-27-ec987d39f99c>:2: calling dropout (from tensorflow.python.ops.nn_ops) with keep_prob is deprecated and will be removed in a future version.\n",
      "Instructions for updating:\n",
      "Please use `rate` instead of `keep_prob`. Rate should be set to `rate = 1 - keep_prob`.\n"
     ]
    }
   ],
   "source": [
    "keep_prob = tf.placeholder(\"float\")\n",
    "h_fc1_drop = tf.nn.dropout(h_fc1, keep_prob)"
   ]
  },
  {
   "cell_type": "markdown",
   "metadata": {},
   "source": [
    "## 输出"
   ]
  },
  {
   "cell_type": "code",
   "execution_count": 28,
   "metadata": {
    "collapsed": true
   },
   "outputs": [],
   "source": [
    "W_fc2 = weight_variable([1024, 10])\n",
    "b_fc2 = bias_variable([10])\n",
    "\n",
    "y_conv=tf.nn.softmax(tf.matmul(h_fc1_drop, W_fc2) + b_fc2)"
   ]
  },
  {
   "cell_type": "markdown",
   "metadata": {},
   "source": [
    "## 损失函数"
   ]
  },
  {
   "cell_type": "code",
   "execution_count": 29,
   "metadata": {
    "collapsed": true
   },
   "outputs": [],
   "source": [
    "cross_entropy = -tf.reduce_sum(y_*tf.log(y_conv))"
   ]
  },
  {
   "cell_type": "markdown",
   "metadata": {},
   "source": [
    "## 优化器"
   ]
  },
  {
   "cell_type": "code",
   "execution_count": 30,
   "metadata": {
    "collapsed": true
   },
   "outputs": [],
   "source": [
    "train_step = tf.train.AdamOptimizer(1e-4).minimize(cross_entropy)"
   ]
  },
  {
   "cell_type": "markdown",
   "metadata": {},
   "source": [
    "## 创建输出的量"
   ]
  },
  {
   "cell_type": "code",
   "execution_count": 31,
   "metadata": {
    "collapsed": true
   },
   "outputs": [],
   "source": [
    "correct_prediction = tf.equal(tf.argmax(y_conv,1), tf.argmax(y_,1))\n",
    "accuracy = tf.reduce_mean(tf.cast(correct_prediction, \"float\"))"
   ]
  },
  {
   "cell_type": "markdown",
   "metadata": {},
   "source": [
    "## 执行"
   ]
  },
  {
   "cell_type": "code",
   "execution_count": 37,
   "metadata": {},
   "outputs": [
    {
     "name": "stdout",
     "output_type": "stream",
     "text": [
      "step 0, training accuracy 0.16\n",
      "step 100, training accuracy 0.22\n",
      "step 200, training accuracy 0.1\n",
      "step 300, training accuracy 0.18\n",
      "step 400, training accuracy 0.22\n",
      "step 500, training accuracy 0.08\n",
      "step 600, training accuracy 0.16\n",
      "step 700, training accuracy 0.16\n",
      "step 800, training accuracy 0.28\n",
      "step 900, training accuracy 0.18\n",
      "step 1000, training accuracy 0.28\n",
      "step 1100, training accuracy 0.24\n",
      "step 1200, training accuracy 0.18\n",
      "step 1300, training accuracy 0.18\n",
      "step 1400, training accuracy 0.22\n",
      "step 1500, training accuracy 0.36\n",
      "step 1600, training accuracy 0.36\n",
      "step 1700, training accuracy 0.36\n",
      "step 1800, training accuracy 0.32\n",
      "step 1900, training accuracy 0.5\n",
      "step 2000, training accuracy 0.58\n",
      "step 2100, training accuracy 0.48\n",
      "step 2200, training accuracy 0.58\n",
      "step 2300, training accuracy 0.44\n",
      "step 2400, training accuracy 0.36\n",
      "step 2500, training accuracy 0.66\n",
      "step 2600, training accuracy 0.52\n",
      "step 2700, training accuracy 0.52\n",
      "step 2800, training accuracy 0.48\n",
      "step 2900, training accuracy 0.44\n",
      "step 3000, training accuracy 0.38\n",
      "step 3100, training accuracy 0.44\n",
      "step 3200, training accuracy 0.6\n",
      "step 3300, training accuracy 0.5\n",
      "step 3400, training accuracy 0.42\n",
      "step 3500, training accuracy 0.6\n",
      "step 3600, training accuracy 0.62\n",
      "step 3700, training accuracy 0.58\n",
      "step 3800, training accuracy 0.5\n",
      "step 3900, training accuracy 0.58\n",
      "step 4000, training accuracy 0.64\n",
      "step 4100, training accuracy 0.52\n",
      "step 4200, training accuracy 0.58\n",
      "step 4300, training accuracy 0.66\n",
      "step 4400, training accuracy 0.6\n",
      "step 4500, training accuracy 0.58\n",
      "step 4600, training accuracy 0.7\n",
      "step 4700, training accuracy 0.62\n",
      "step 4800, training accuracy 0.64\n",
      "step 4900, training accuracy 0.7\n",
      "step 5000, training accuracy 0.64\n",
      "step 5100, training accuracy 0.56\n",
      "step 5200, training accuracy 0.78\n",
      "step 5300, training accuracy 0.64\n",
      "step 5400, training accuracy 0.88\n",
      "step 5500, training accuracy 0.86\n",
      "step 5600, training accuracy 0.74\n",
      "step 5700, training accuracy 0.62\n",
      "step 5800, training accuracy 0.84\n",
      "step 5900, training accuracy 0.74\n",
      "step 6000, training accuracy 0.82\n",
      "step 6100, training accuracy 0.8\n",
      "step 6200, training accuracy 0.68\n",
      "step 6300, training accuracy 0.8\n",
      "step 6400, training accuracy 0.74\n",
      "step 6500, training accuracy 0.58\n",
      "step 6600, training accuracy 0.72\n",
      "step 6700, training accuracy 0.72\n",
      "step 6800, training accuracy 0.82\n",
      "step 6900, training accuracy 0.84\n",
      "step 7000, training accuracy 0.8\n",
      "step 7100, training accuracy 0.78\n",
      "step 7200, training accuracy 0.68\n",
      "step 7300, training accuracy 0.8\n",
      "step 7400, training accuracy 0.68\n",
      "step 7500, training accuracy 0.68\n",
      "step 7600, training accuracy 0.78\n",
      "step 7700, training accuracy 0.84\n",
      "step 7800, training accuracy 0.86\n",
      "step 7900, training accuracy 0.82\n",
      "step 8000, training accuracy 0.76\n",
      "step 8100, training accuracy 0.8\n",
      "step 8200, training accuracy 0.72\n",
      "step 8300, training accuracy 0.8\n",
      "step 8400, training accuracy 0.8\n",
      "step 8500, training accuracy 0.8\n",
      "step 8600, training accuracy 0.84\n",
      "step 8700, training accuracy 0.74\n",
      "step 8800, training accuracy 0.88\n",
      "step 8900, training accuracy 0.82\n",
      "step 9000, training accuracy 0.88\n",
      "step 9100, training accuracy 0.84\n",
      "step 9200, training accuracy 0.72\n",
      "step 9300, training accuracy 0.72\n",
      "step 9400, training accuracy 0.8\n",
      "step 9500, training accuracy 0.8\n",
      "step 9600, training accuracy 0.72\n",
      "step 9700, training accuracy 0.8\n",
      "step 9800, training accuracy 0.8\n",
      "step 9900, training accuracy 0.86\n",
      "step 10000, training accuracy 0.86\n",
      "step 10100, training accuracy 0.92\n",
      "step 10200, training accuracy 0.84\n",
      "step 10300, training accuracy 0.72\n",
      "step 10400, training accuracy 0.82\n",
      "step 10500, training accuracy 0.88\n",
      "step 10600, training accuracy 0.9\n",
      "step 10700, training accuracy 0.74\n",
      "step 10800, training accuracy 0.9\n",
      "step 10900, training accuracy 0.88\n",
      "step 11000, training accuracy 0.82\n",
      "step 11100, training accuracy 0.9\n",
      "step 11200, training accuracy 0.72\n",
      "step 11300, training accuracy 0.86\n",
      "step 11400, training accuracy 0.8\n",
      "step 11500, training accuracy 0.8\n",
      "step 11600, training accuracy 0.92\n",
      "step 11700, training accuracy 0.84\n",
      "step 11800, training accuracy 0.84\n",
      "step 11900, training accuracy 0.82\n",
      "step 12000, training accuracy 0.82\n",
      "step 12100, training accuracy 0.88\n",
      "step 12200, training accuracy 0.92\n",
      "step 12300, training accuracy 0.86\n",
      "step 12400, training accuracy 0.84\n",
      "step 12500, training accuracy 0.86\n",
      "step 12600, training accuracy 0.84\n",
      "step 12700, training accuracy 0.84\n",
      "step 12800, training accuracy 0.88\n",
      "step 12900, training accuracy 0.7\n",
      "step 13000, training accuracy 0.86\n",
      "step 13100, training accuracy 0.9\n",
      "step 13200, training accuracy 0.76\n",
      "step 13300, training accuracy 0.86\n",
      "step 13400, training accuracy 0.86\n",
      "step 13500, training accuracy 0.78\n",
      "step 13600, training accuracy 0.9\n",
      "step 13700, training accuracy 0.9\n",
      "step 13800, training accuracy 0.88\n",
      "step 13900, training accuracy 0.88\n",
      "step 14000, training accuracy 0.92\n",
      "step 14100, training accuracy 0.78\n",
      "step 14200, training accuracy 0.9\n",
      "step 14300, training accuracy 0.88\n",
      "step 14400, training accuracy 0.9\n",
      "step 14500, training accuracy 0.88\n",
      "step 14600, training accuracy 0.94\n",
      "step 14700, training accuracy 0.9\n",
      "step 14800, training accuracy 0.86\n",
      "step 14900, training accuracy 0.88\n",
      "step 15000, training accuracy 0.88\n",
      "step 15100, training accuracy 0.9\n",
      "step 15200, training accuracy 0.74\n",
      "step 15300, training accuracy 0.84\n",
      "step 15400, training accuracy 0.88\n",
      "step 15500, training accuracy 0.88\n",
      "step 15600, training accuracy 0.84\n",
      "step 15700, training accuracy 0.76\n",
      "step 15800, training accuracy 0.98\n",
      "step 15900, training accuracy 0.96\n",
      "step 16000, training accuracy 0.96\n",
      "step 16100, training accuracy 0.84\n",
      "step 16200, training accuracy 0.88\n",
      "step 16300, training accuracy 0.78\n",
      "step 16400, training accuracy 0.72\n",
      "step 16500, training accuracy 0.94\n",
      "step 16600, training accuracy 0.88\n",
      "step 16700, training accuracy 0.82\n",
      "step 16800, training accuracy 0.86\n",
      "step 16900, training accuracy 0.82\n",
      "step 17000, training accuracy 0.9\n",
      "step 17100, training accuracy 0.88\n",
      "step 17200, training accuracy 0.92\n",
      "step 17300, training accuracy 0.86\n",
      "step 17400, training accuracy 0.9\n",
      "step 17500, training accuracy 0.88\n",
      "step 17600, training accuracy 0.94\n",
      "step 17700, training accuracy 0.88\n",
      "step 17800, training accuracy 0.88\n",
      "step 17900, training accuracy 0.94\n",
      "step 18000, training accuracy 0.84\n",
      "step 18100, training accuracy 0.92\n",
      "step 18200, training accuracy 0.92\n",
      "step 18300, training accuracy 0.94\n",
      "step 18400, training accuracy 0.9\n",
      "step 18500, training accuracy 0.86\n",
      "step 18600, training accuracy 0.82\n",
      "step 18700, training accuracy 0.86\n",
      "step 18800, training accuracy 0.86\n",
      "step 18900, training accuracy 0.9\n",
      "step 19000, training accuracy 0.88\n",
      "step 19100, training accuracy 0.86\n",
      "step 19200, training accuracy 0.96\n",
      "step 19300, training accuracy 0.88\n",
      "step 19400, training accuracy 0.84\n",
      "step 19500, training accuracy 0.86\n",
      "step 19600, training accuracy 0.98\n",
      "step 19700, training accuracy 0.88\n",
      "step 19800, training accuracy 0.94\n",
      "step 19900, training accuracy 0.86\n",
      "test accuracy 0.9082\n"
     ]
    }
   ],
   "source": [
    "init = tf.initialize_all_variables()\n",
    "with tf.Session() as sess:\n",
    "    sess.run(init)\n",
    "    for i in range(20000):\n",
    "      batch = mnist.train.next_batch(50)\n",
    "      if i%100 == 0:\n",
    "        train_accuracy = accuracy.eval(feed_dict={x:batch[0], y_: batch[1], keep_prob: 1.0})\n",
    "        print(\"step %d, training accuracy %g\"%(i, train_accuracy))\n",
    "        train_step.run(feed_dict={x: batch[0], y_: batch[1], keep_prob: 0.5})\n",
    "\n",
    "    print(\"test accuracy %g\"%accuracy.eval(feed_dict={x: mnist.test.images, y_: mnist.test.labels, keep_prob: 1.0}))"
   ]
  },
  {
   "cell_type": "code",
   "execution_count": null,
   "metadata": {
    "collapsed": true
   },
   "outputs": [],
   "source": []
  }
 ],
 "metadata": {
  "kernelspec": {
   "display_name": "Python 3",
   "language": "python",
   "name": "python3"
  },
  "language_info": {
   "codemirror_mode": {
    "name": "ipython",
    "version": 3
   },
   "file_extension": ".py",
   "mimetype": "text/x-python",
   "name": "python",
   "nbconvert_exporter": "python",
   "pygments_lexer": "ipython3",
   "version": "3.6.1"
  }
 },
 "nbformat": 4,
 "nbformat_minor": 2
}
