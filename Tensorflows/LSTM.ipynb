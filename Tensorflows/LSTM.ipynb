{
 "cells": [
  {
   "cell_type": "code",
   "execution_count": 1,
   "metadata": {},
   "outputs": [
    {
     "name": "stderr",
     "output_type": "stream",
     "text": [
      "F:\\Anaconda\\lib\\site-packages\\h5py\\__init__.py:34: FutureWarning: Conversion of the second argument of issubdtype from `float` to `np.floating` is deprecated. In future, it will be treated as `np.float64 == np.dtype(float).type`.\n",
      "  from ._conv import register_converters as _register_converters\n"
     ]
    }
   ],
   "source": [
    "# -*- coding: utf-8 -*-\n",
    "import numpy as np\n",
    "import tensorflow as tf\n",
    "from tensorflow.contrib import rnn\n",
    "import random\n",
    "import time\n",
    "from collections import Counter\n",
    "\n",
    "start_time = time.time()\n",
    "\n",
    "\n",
    "def elapsed(sec):\n",
    "    if sec < 60:\n",
    "        return str(sec) + \" sec\"\n",
    "    elif sec < (60 * 60):\n",
    "        return str(sec / 60) + \" min\"\n",
    "    else:\n",
    "        return str(sec / (60 * 60)) + \" hr\"\n",
    "\n",
    "\n",
    "# Target log path\n",
    "tf.reset_default_graph()\n",
    "training_file = 'wordstest.txt'\n",
    "\n",
    "\n",
    "# 中文多文件\n",
    "def readalltxt(txt_files):\n",
    "    labels = []\n",
    "    for txt_file in txt_files:\n",
    "        target = get_ch_lable(txt_file)\n",
    "        labels.append(target)\n",
    "    return labels\n",
    "\n",
    "\n",
    "# 中文字\n",
    "def get_ch_lable(txt_file):\n",
    "    labels = \"\"\n",
    "    with open(txt_file, 'rb') as f:\n",
    "        for label in f:\n",
    "            labels = labels + label.decode('utf-8')\n",
    "            # labels = labels + label.decode('gb2312')\n",
    "    return labels\n",
    "\n",
    "\n",
    "# 优先转文件里的字符到向量\n",
    "def get_ch_lable_v(txt_file, word_num_map, txt_label=None):\n",
    "    words_size = len(word_num_map)\n",
    "    to_num = lambda word: word_num_map.get(word, words_size)\n",
    "    if txt_file != None:\n",
    "        txt_label = get_ch_lable(txt_file)\n",
    "\n",
    "    labels_vector = list(map(to_num, txt_label))\n",
    "    return labels_vector"
   ]
  },
  {
   "cell_type": "code",
   "execution_count": 2,
   "metadata": {},
   "outputs": [
    {
     "name": "stdout",
     "output_type": "stream",
     "text": [
      "Loaded training data...\n",
      "字表大小: 39\n"
     ]
    }
   ],
   "source": [
    "training_data = get_ch_lable(training_file)\n",
    "print(\"Loaded training data...\")\n",
    "\n",
    "counter = Counter(training_data)\n",
    "words = sorted(counter)\n",
    "words_size = len(words)\n",
    "word_num_map = dict(zip(words, range(words_size)))\n",
    "\n",
    "print('字表大小:', words_size)\n",
    "wordlabel = get_ch_lable_v(training_file, word_num_map)"
   ]
  },
  {
   "cell_type": "code",
   "execution_count": 3,
   "metadata": {
    "collapsed": true
   },
   "outputs": [],
   "source": [
    "# 定义参数\n",
    "learning_rate = 0.001\n",
    "training_iters = 10000\n",
    "display_step = 1000\n",
    "n_input = 4\n",
    "\n",
    "n_hidden1 = 256\n",
    "n_hidden2 = 512\n",
    "n_hidden3 = 512\n",
    "# 定义占位符\n",
    "x = tf.placeholder(\"float\", [None, n_input, 1])\n",
    "wordy = tf.placeholder(\"float\", [None, words_size])"
   ]
  },
  {
   "cell_type": "code",
   "execution_count": 4,
   "metadata": {},
   "outputs": [
    {
     "name": "stderr",
     "output_type": "stream",
     "text": [
      "WARNING: Logging before flag parsing goes to stderr.\n",
      "W1217 16:16:00.630673 11732 deprecation.py:323] From <ipython-input-4-c0a3c6870784>:4: LSTMCell.__init__ (from tensorflow.python.ops.rnn_cell_impl) is deprecated and will be removed in a future version.\n",
      "Instructions for updating:\n",
      "This class is equivalent as tf.keras.layers.LSTMCell, and will be replaced by that in Tensorflow 2.0.\n",
      "W1217 16:16:00.632669 11732 deprecation.py:323] From <ipython-input-4-c0a3c6870784>:4: MultiRNNCell.__init__ (from tensorflow.python.ops.rnn_cell_impl) is deprecated and will be removed in a future version.\n",
      "Instructions for updating:\n",
      "This class is equivalent as tf.keras.layers.StackedRNNCells, and will be replaced by that in Tensorflow 2.0.\n",
      "W1217 16:16:00.634663 11732 deprecation.py:323] From <ipython-input-4-c0a3c6870784>:7: static_rnn (from tensorflow.python.ops.rnn) is deprecated and will be removed in a future version.\n",
      "Instructions for updating:\n",
      "Please use `keras.layers.RNN(cell, unroll=True)`, which is equivalent to this API\n",
      "W1217 16:16:00.890976 11732 deprecation.py:506] From F:\\Anaconda\\lib\\site-packages\\tensorflow\\python\\ops\\init_ops.py:1251: calling VarianceScaling.__init__ (from tensorflow.python.ops.init_ops) with dtype is deprecated and will be removed in a future version.\n",
      "Instructions for updating:\n",
      "Call initializer instance with the dtype argument instead of passing it to the constructor\n",
      "W1217 16:16:00.898955 11732 deprecation.py:506] From F:\\Anaconda\\lib\\site-packages\\tensorflow\\python\\ops\\rnn_cell_impl.py:961: calling Zeros.__init__ (from tensorflow.python.ops.init_ops) with dtype is deprecated and will be removed in a future version.\n",
      "Instructions for updating:\n",
      "Call initializer instance with the dtype argument instead of passing it to the constructor\n"
     ]
    }
   ],
   "source": [
    "x1 = tf.reshape(x, [-1, n_input])\n",
    "x2 = tf.split(x1, n_input, 1)\n",
    "# 2-layer LSTM，每层有 n_hidden 个units\n",
    "rnn_cell = rnn.MultiRNNCell([rnn.LSTMCell(n_hidden1), rnn.LSTMCell(n_hidden2), rnn.LSTMCell(n_hidden3)])\n",
    "\n",
    "# 通过RNN得到输出\n",
    "outputs, states = rnn.static_rnn(rnn_cell, x2, dtype=tf.float32)\n",
    "\n",
    "# 通过全连接输出指定维度\n",
    "pred = tf.contrib.layers.fully_connected(outputs[-1], words_size, activation_fn=None)"
   ]
  },
  {
   "cell_type": "code",
   "execution_count": 5,
   "metadata": {},
   "outputs": [
    {
     "name": "stderr",
     "output_type": "stream",
     "text": [
      "W1217 16:16:02.932899 11732 deprecation.py:323] From <ipython-input-5-f71f31a9c112>:2: softmax_cross_entropy_with_logits (from tensorflow.python.ops.nn_ops) is deprecated and will be removed in a future version.\n",
      "Instructions for updating:\n",
      "\n",
      "Future major versions of TensorFlow will allow gradients to flow\n",
      "into the labels input on backprop by default.\n",
      "\n",
      "See `tf.nn.softmax_cross_entropy_with_logits_v2`.\n",
      "\n"
     ]
    }
   ],
   "source": [
    "# 定义loss与优化器\n",
    "loss = tf.reduce_mean(tf.nn.softmax_cross_entropy_with_logits(logits=pred, labels=wordy))\n",
    "optimizer = tf.train.AdamOptimizer(learning_rate=learning_rate).minimize(loss)\n",
    "\n",
    "# 模型评估\n",
    "correct_pred = tf.equal(tf.argmax(pred, 1), tf.argmax(wordy, 1))\n",
    "accuracy = tf.reduce_mean(tf.cast(correct_pred, tf.float32))"
   ]
  },
  {
   "cell_type": "code",
   "execution_count": 6,
   "metadata": {},
   "outputs": [
    {
     "data": {
      "text/plain": [
       "'savedir = \"C:\\\\Users\\\\20622\\\\Tensorflows\"\\nsaver = tf.train.Saver(max_to_keep=1)  # 生成saver\\n\\n# 启动session\\nwith tf.Session() as session:\\n    session.run(tf.global_variables_initializer())\\n    step = 0\\n    offset = random.randint(0, n_input + 1)\\n    end_offset = n_input + 1\\n    acc_total = 0\\n    loss_total = 0\\n\\n    kpt = tf.train.latest_checkpoint(savedir)\\n    print(\"kpt:\", kpt)\\n    startepo = 0\\n    if kpt != None:\\n        saver.restore(session, kpt)\\n        ind = kpt.find(\"-\")\\n        startepo = int(kpt[ind + 1:])\\n        print(startepo)\\n        step = startepo\\n\\n    while step < training_iters:\\n\\n        # 随机取一个位置偏移\\n        if offset > (len(training_data) - end_offset):\\n            offset = random.randint(0, n_input + 1)\\n\\n        inwords = [[wordlabel[i]] for i in range(offset, offset + n_input)]  # 按照指定的位置偏移获得后4个文字向量，当作输入\\n\\n        inwords = np.reshape(np.array(inwords), [-1, n_input, 1])\\n\\n        out_onehot = np.zeros([words_size], dtype=float)\\n        out_onehot[wordlabel[offset + n_input]] = 1.0\\n        out_onehot = np.reshape(out_onehot, [1, -1])  # 所有的字都变成onehot\\n\\n        _, acc, lossval, onehot_pred = session.run([optimizer, accuracy, loss, pred],\\n                                                   feed_dict={x: inwords, wordy: out_onehot})\\n        loss_total += lossval\\n        acc_total += acc\\n        if (step + 1) % display_step == 0:\\n            print(\"Iter= \" + str(step + 1) + \", Average Loss= \" +                   \"{:.6f}\".format(loss_total / display_step) + \", AverageAccuracy= \" +                   \"{:.2f}%\".format(100 * acc_total / display_step))\\n            acc_total = 0\\n            loss_total = 0\\n            in2 = [words[wordlabel[i]] for i in range(offset, offset + n_input)]\\n            out2 = words[wordlabel[offset + n_input]]\\n            out_pred = words[int(tf.argmax(onehot_pred, 1).eval())]\\n            print(\"%s - [%s] vs [%s]\" % (in2, out2, out_pred))\\n            saver.save(session, savedir + \"rnnwordtest.cpkt\", global_step=step)\\n        step += 1\\n        offset += (n_input + 1)  # 调整下一次迭代使用的偏移量\\n\\n    print(\"Finished!\")\\n    saver.save(session, savedir + \"rnnwordtest.cpkt\", global_step=step)\\n    print(\"Elapsed time: \", elapsed(time.time() - start_time))\\n    \\n    while True:\\n        prompt = \"请输入%s个字: \" % n_input\\n        sentence = input(prompt)\\n        inputword = sentence.strip()\\n\\n        if len(inputword) != n_input:\\n            print(\"您输入的字符长度为：\", len(inputword), \"请输入4个字\")\\n            continue\\n        try:\\n            inputword = get_ch_lable_v(None, word_num_map, inputword)\\n\\n            for i in range(32):\\n                keys = np.reshape(np.array(inputword), [-1, n_input, 1])\\n                onehot_pred = session.run(pred, feed_dict={x: keys})\\n                onehot_pred_index = int(tf.argmax(onehot_pred, 1).eval())\\n                sentence = \"%s%s\" % (sentence, words[onehot_pred_index])\\n                inputword = inputword[1:]\\n                inputword.append(onehot_pred_index)\\n            print(sentence)\\n        except:\\n            print(\"该字我还没学会\")'"
      ]
     },
     "execution_count": 6,
     "metadata": {},
     "output_type": "execute_result"
    }
   ],
   "source": [
    "'''savedir = \"C:\\\\Users\\\\20622\\\\Tensorflows\"\n",
    "saver = tf.train.Saver(max_to_keep=1)  # 生成saver\n",
    "\n",
    "# 启动session\n",
    "with tf.Session() as session:\n",
    "    session.run(tf.global_variables_initializer())\n",
    "    step = 0\n",
    "    offset = random.randint(0, n_input + 1)\n",
    "    end_offset = n_input + 1\n",
    "    acc_total = 0\n",
    "    loss_total = 0\n",
    "\n",
    "    kpt = tf.train.latest_checkpoint(savedir)\n",
    "    print(\"kpt:\", kpt)\n",
    "    startepo = 0\n",
    "    if kpt != None:\n",
    "        saver.restore(session, kpt)\n",
    "        ind = kpt.find(\"-\")\n",
    "        startepo = int(kpt[ind + 1:])\n",
    "        print(startepo)\n",
    "        step = startepo\n",
    "\n",
    "    while step < training_iters:\n",
    "\n",
    "        # 随机取一个位置偏移\n",
    "        if offset > (len(training_data) - end_offset):\n",
    "            offset = random.randint(0, n_input + 1)\n",
    "\n",
    "        inwords = [[wordlabel[i]] for i in range(offset, offset + n_input)]  # 按照指定的位置偏移获得后4个文字向量，当作输入\n",
    "\n",
    "        inwords = np.reshape(np.array(inwords), [-1, n_input, 1])\n",
    "\n",
    "        out_onehot = np.zeros([words_size], dtype=float)\n",
    "        out_onehot[wordlabel[offset + n_input]] = 1.0\n",
    "        out_onehot = np.reshape(out_onehot, [1, -1])  # 所有的字都变成onehot\n",
    "\n",
    "        _, acc, lossval, onehot_pred = session.run([optimizer, accuracy, loss, pred],\n",
    "                                                   feed_dict={x: inwords, wordy: out_onehot})\n",
    "        loss_total += lossval\n",
    "        acc_total += acc\n",
    "        if (step + 1) % display_step == 0:\n",
    "            print(\"Iter= \" + str(step + 1) + \", Average Loss= \" + \\\n",
    "                  \"{:.6f}\".format(loss_total / display_step) + \", AverageAccuracy= \" + \\\n",
    "                  \"{:.2f}%\".format(100 * acc_total / display_step))\n",
    "            acc_total = 0\n",
    "            loss_total = 0\n",
    "            in2 = [words[wordlabel[i]] for i in range(offset, offset + n_input)]\n",
    "            out2 = words[wordlabel[offset + n_input]]\n",
    "            out_pred = words[int(tf.argmax(onehot_pred, 1).eval())]\n",
    "            print(\"%s - [%s] vs [%s]\" % (in2, out2, out_pred))\n",
    "            saver.save(session, savedir + \"rnnwordtest.cpkt\", global_step=step)\n",
    "        step += 1\n",
    "        offset += (n_input + 1)  # 调整下一次迭代使用的偏移量\n",
    "\n",
    "    print(\"Finished!\")\n",
    "    saver.save(session, savedir + \"rnnwordtest.cpkt\", global_step=step)\n",
    "    print(\"Elapsed time: \", elapsed(time.time() - start_time))\n",
    "    \n",
    "    while True:\n",
    "        prompt = \"请输入%s个字: \" % n_input\n",
    "        sentence = input(prompt)\n",
    "        inputword = sentence.strip()\n",
    "\n",
    "        if len(inputword) != n_input:\n",
    "            print(\"您输入的字符长度为：\", len(inputword), \"请输入4个字\")\n",
    "            continue\n",
    "        try:\n",
    "            inputword = get_ch_lable_v(None, word_num_map, inputword)\n",
    "\n",
    "            for i in range(32):\n",
    "                keys = np.reshape(np.array(inputword), [-1, n_input, 1])\n",
    "                onehot_pred = session.run(pred, feed_dict={x: keys})\n",
    "                onehot_pred_index = int(tf.argmax(onehot_pred, 1).eval())\n",
    "                sentence = \"%s%s\" % (sentence, words[onehot_pred_index])\n",
    "                inputword = inputword[1:]\n",
    "                inputword.append(onehot_pred_index)\n",
    "            print(sentence)\n",
    "        except:\n",
    "            print(\"该字我还没学会\")'''"
   ]
  },
  {
   "cell_type": "code",
   "execution_count": null,
   "metadata": {
    "collapsed": true
   },
   "outputs": [],
   "source": []
  }
 ],
 "metadata": {
  "kernelspec": {
   "display_name": "Python 3",
   "language": "python",
   "name": "python3"
  },
  "language_info": {
   "codemirror_mode": {
    "name": "ipython",
    "version": 3
   },
   "file_extension": ".py",
   "mimetype": "text/x-python",
   "name": "python",
   "nbconvert_exporter": "python",
   "pygments_lexer": "ipython3",
   "version": "3.6.1"
  }
 },
 "nbformat": 4,
 "nbformat_minor": 2
}
